{
 "cells": [
  {
   "cell_type": "code",
   "execution_count": 1,
   "metadata": {},
   "outputs": [],
   "source": [
    "import requests\n",
    "import re\n",
    "from bs4 import BeautifulSoup\n",
    "import pandas as pd \n",
    "import numpy as np"
   ]
  },
  {
   "cell_type": "markdown",
   "metadata": {},
   "source": [
    "### ● SUUMOの一つの物件から情報を取得する。"
   ]
  },
  {
   "cell_type": "code",
   "execution_count": 2,
   "metadata": {},
   "outputs": [],
   "source": [
    "base_url = \"https://suumo.jp/jj/chintai/ichiran/FR301FC001/?ar=030&bs=040&ta=13&sc=13109&cb=0.0&ct=9999999&mb=0&mt=9999999&et=9999999&cn=9999999&shkr1=03&shkr2=03&shkr3=03&shkr4=03&sngz=&po1=09\"\n",
    "response = requests.get(base_url)\n",
    "soup     = BeautifulSoup(response.content, \"lxml\")\n",
    "items    = soup.find(class_=\"cassetteitem\")"
   ]
  },
  {
   "cell_type": "code",
   "execution_count": 3,
   "metadata": {},
   "outputs": [],
   "source": [
    "# スクレイピングした HTML情報出力\n",
    "f = open(\"test.txt\", \"w\")\n",
    "f.write(str(items))\n",
    "f.close()"
   ]
  },
  {
   "cell_type": "code",
   "execution_count": 4,
   "metadata": {},
   "outputs": [
    {
     "name": "stdout",
     "output_type": "stream",
     "text": [
      "物件名称 (Property Name): アーバン増渕\n",
      "カテゴリー (Category): 賃貸マンション\n",
      "住所 (Address): 東京都品川区西品川２\n",
      "最寄り駅 (Nearest Stations): ['ＪＲ埼京線/大崎駅 歩10分', '東急大井町線/下神明駅 歩10分', 'ＪＲ京浜東北線/大井町駅 歩20分']\n",
      "築年数 (Years Since Construction): 築38年\n",
      "階建 (Number of Floors): 3階建\n",
      "階数 (Floor Number): None\n",
      "賃料/管理費 (Rent/Administration Fee): 15万円 / 5000円\n",
      "敷金/礼金 (Deposit/Key Money): - / -\n",
      "間取り/占有面積 (Layout/Total Area): 1LDK / 26.6m2\n"
     ]
    }
   ],
   "source": [
    "# 各物件情報の取得\n",
    "property_name     = items.find(class_=\"cassetteitem_content-title\").get_text() if items.find(class_=\"cassetteitem_content-title\") else None\n",
    "category          = items.find(class_=\"cassetteitem_content-label\").span.get_text() if items.find(class_=\"cassetteitem_content-label\") else None\n",
    "address           = items.find(class_=\"cassetteitem_detail-col1\").get_text() if items.find(class_=\"cassetteitem_detail-col1\") else None\n",
    "nearest_stations  = [station.get_text() for station in items.find_all(class_=\"cassetteitem_detail-text\")] if items.find_all(class_=\"cassetteitem_detail-text\") else None\n",
    "construction_info = items.find(class_=\"cassetteitem_detail-col3\").find_all(\"div\") if items.find(class_=\"cassetteitem_detail-col3\") else None\n",
    "years_since_const = construction_info[0].get_text() if construction_info and len(construction_info) > 0 else None\n",
    "number_of_floors  = construction_info[1].get_text() if construction_info and len(construction_info) > 1 else None\n",
    "floor_number_td   = items.select_one(\"tr.js-cassette_link .cassetteitem_other-col03\")\n",
    "floor_number      = floor_number_td.get_text(strip=True) if floor_number_td else None\n",
    "rent_info         = items.select_one(\".cassetteitem_other tbody .js-cassette_link\")\n",
    "rent_admin_fee    = \" / \".join([item.get_text(strip=True) for item in rent_info.select(\".cassetteitem_price--rent, .cassetteitem_price--administration\")]) if rent_info else None\n",
    "deposit_gratuity  = \" / \".join([price.get_text(strip=True) for price in rent_info.select(\".cassetteitem_price--deposit, .cassetteitem_price--gratuity\")]) if rent_info else None\n",
    "layout_total_area = \" / \".join([detail.get_text(strip=True) for detail in rent_info.select(\".cassetteitem_madori, .cassetteitem_menseki\")]) if rent_info else None\n",
    "\n",
    "\n",
    "# 各物件情報の表示\n",
    "print(\"物件名称 (Property Name):\", property_name)\n",
    "print(\"カテゴリー (Category):\", category)\n",
    "print(\"住所 (Address):\", address)\n",
    "print(\"最寄り駅 (Nearest Stations):\", nearest_stations)\n",
    "print(\"築年数 (Years Since Construction):\", years_since_const)\n",
    "print(\"階建 (Number of Floors):\", number_of_floors)\n",
    "print(\"階数 (Floor Number):\", floor_number)\n",
    "print(\"賃料/管理費 (Rent/Administration Fee):\", rent_admin_fee)\n",
    "print(\"敷金/礼金 (Deposit/Key Money):\", deposit_gratuity)\n",
    "print(\"間取り/占有面積 (Layout/Total Area):\", layout_total_area)"
   ]
  },
  {
   "cell_type": "code",
   "execution_count": 5,
   "metadata": {},
   "outputs": [
    {
     "name": "stdout",
     "output_type": "stream",
     "text": [
      "物件画像 URL (Property Image URL): https://img01.suumo.com/front/gazo/fr/bukken/856/100354069856/100354069856_gw.jpg\n",
      "間取り情報画像 URL (Floor Plan Image URL): https://img01.suumo.com/front/gazo/fr/bukken/856/100354069856/100354069856_co.jpg\n",
      "物件リンク (Property Link): https://suumo.jp/chintai/jnc_000086509817/?bc=100354069856\n"
     ]
    }
   ],
   "source": [
    "# 物件画像・間取り画像・詳細URLの取得\n",
    "property_image_element = items.find(class_=\"cassetteitem_object-item\")\n",
    "property_image_url = property_image_element.img[\"rel\"] if property_image_element and property_image_element.img else None\n",
    "\n",
    "floor_plan_image_element = items.find(class_=\"casssetteitem_other-thumbnail\")\n",
    "floor_plan_image_url = floor_plan_image_element.img[\"rel\"] if floor_plan_image_element and floor_plan_image_element.img else None\n",
    "\n",
    "property_link_element = items.select_one(\"a[href*='/chintai/jnc_']\")\n",
    "property_link = \"https://suumo.jp\" + property_link_element['href'] if property_link_element else None\n",
    "\n",
    "# 物件画像・間取り画像・詳細URLの表示\n",
    "print(\"物件画像 URL (Property Image URL):\", property_image_url)\n",
    "print(\"間取り情報画像 URL (Floor Plan Image URL):\", floor_plan_image_url)\n",
    "print(\"物件リンク (Property Link):\", property_link)"
   ]
  },
  {
   "cell_type": "markdown",
   "metadata": {},
   "source": [
    "### ● SUUMOの複数ページから情報を取得する。"
   ]
  },
  {
   "cell_type": "markdown",
   "metadata": {},
   "source": [
    "#####  検索範囲：東京都 中央区・港区・台東区・江戸川区・品川区・世田谷区\n",
    "#####  検索条件：新着順\n",
    "#####  表示数　：30件\n",
    "https://suumo.jp/jj/chintai/ichiran/FR301FC001/?ar=030&bs=040&ta=13&sc=13102&sc=13103&sc=13106&sc=13123&sc=13109&sc=13112&cb=0.0&ct=9999999&mb=0&mt=9999999&et=9999999&cn=9999999&shkr1=03&shkr2=03&shkr3=03&shkr4=03&sngz=&po1=09"
   ]
  },
  {
   "cell_type": "code",
   "execution_count": 6,
   "metadata": {},
   "outputs": [
    {
     "name": "stdout",
     "output_type": "stream",
     "text": [
      "page 1 items 30\n",
      "page 2 items 30\n",
      "page 3 items 30\n",
      "page 4 items 30\n",
      "page 5 items 30\n"
     ]
    }
   ],
   "source": [
    "# 基本URLと最大ページ数の設定\n",
    "base_url = \"https://suumo.jp/jj/chintai/ichiran/FR301FC001/?ar=030&bs=040&ta=13&sc=13102&sc=13103&sc=13106&sc=13123&sc=13109&sc=13112&cb=0.0&ct=9999999&mb=0&mt=9999999&et=9999999&cn=9999999&shkr1=03&shkr2=03&shkr3=03&shkr4=03&sngz=&po1=09&page={}\"\n",
    "max_page = 5  # 最大ページ数\n",
    "\n",
    "all_data = []\n",
    "\n",
    "for page in range(1, max_page + 1):\n",
    "    url = base_url.format(page)\n",
    "    response = requests.get(url)\n",
    "    soup = BeautifulSoup(response.content, 'lxml')\n",
    "    items = soup.findAll(\"div\", {\"class\": \"cassetteitem\"})\n",
    "\n",
    "\n",
    "    print(\"page\", page, \"items\", len(items))\n",
    "\n",
    "    for item in items:\n",
    "        base_data = {}\n",
    "        base_data[\"名称\"]     = item.find(\"div\", {\"class\": \"cassetteitem_content-title\"}).get_text(strip=True) if item.find(\"div\", {\"class\": \"cassetteitem_content-title\"}) else None\n",
    "        base_data[\"カテゴリ\"] = item.find(\"div\", {\"class\": \"cassetteitem_content-label\"}).span.get_text(strip=True) if item.find(\"div\", {\"class\": \"cassetteitem_content-label\"}) else None\n",
    "        base_data[\"アドレス\"] = item.find(\"li\", {\"class\": \"cassetteitem_detail-col1\"}).get_text(strip=True) if item.find(\"li\", {\"class\": \"cassetteitem_detail-col1\"}) else None\n",
    "        \n",
    "        # 駅のアクセス情報をまとめて取得\n",
    "        base_data[\"アクセス\"] = \", \".join([station.get_text(strip=True) for station in item.findAll(\"div\", {\"class\": \"cassetteitem_detail-text\"})])\n",
    "\n",
    "        construction_info = item.find(\"li\", {\"class\": \"cassetteitem_detail-col3\"}).find_all(\"div\") if item.find(\"li\", {\"class\": \"cassetteitem_detail-col3\"}) else None\n",
    "        base_data[\"築年数\"] = construction_info[0].get_text(strip=True) if construction_info and len(construction_info) > 0 else None\n",
    "        base_data[\"構造\"] = construction_info[1].get_text(strip=True) if construction_info and len(construction_info) > 1 else None\n",
    "\n",
    "        tbodys = item.find(\"table\", {\"class\": \"cassetteitem_other\"}).findAll(\"tbody\")\n",
    "\n",
    "        for tbody in tbodys:\n",
    "            data = base_data.copy()\n",
    "            # 階数情報の正確な取得\n",
    "            floor_info = tbody.find_all(\"td\")[2].get_text(strip=True) if len(tbody.find_all(\"td\")) > 2 else None\n",
    "            data[\"階数\"]   = floor_info\n",
    "            data[\"家賃\"]   = tbody.select_one(\".cassetteitem_price--rent\").get_text(strip=True) if tbody.select_one(\".cassetteitem_price--rent\") else None\n",
    "            data[\"管理費\"] = tbody.select_one(\".cassetteitem_price--administration\").get_text(strip=True) if tbody.select_one(\".cassetteitem_price--administration\") else None\n",
    "            data[\"敷金\"]   = tbody.select_one(\".cassetteitem_price--deposit\").get_text(strip=True) if tbody.select_one(\".cassetteitem_price--deposit\") else None\n",
    "            data[\"礼金\"]   = tbody.select_one(\".cassetteitem_price--gratuity\").get_text(strip=True) if tbody.select_one(\".cassetteitem_price--gratuity\") else None\n",
    "            data[\"間取り\"] = tbody.select_one(\".cassetteitem_madori\").get_text(strip=True) if tbody.select_one(\".cassetteitem_madori\") else None\n",
    "            data[\"面積\"]   = tbody.select_one(\".cassetteitem_menseki\").get_text(strip=True) if tbody.select_one(\".cassetteitem_menseki\") else None\n",
    "\n",
    "            # 物件画像・間取り画像・詳細URLの取得を最後に行う\n",
    "            property_image_element = item.find(class_=\"cassetteitem_object-item\")\n",
    "            data[\"物件画像URL\"] = property_image_element.img[\"rel\"] if property_image_element and property_image_element.img else None\n",
    "\n",
    "            floor_plan_image_element = item.find(class_=\"casssetteitem_other-thumbnail\")\n",
    "            data[\"間取画像URL\"] = floor_plan_image_element.img[\"rel\"] if floor_plan_image_element and floor_plan_image_element.img else None\n",
    "\n",
    "            property_link_element = item.select_one(\"a[href*='/chintai/jnc_']\")\n",
    "            data[\"物件詳細URL\"] = \"https://suumo.jp\" +property_link_element['href'] if property_link_element else None\n",
    "\n",
    "            all_data.append(data)    \n"
   ]
  },
  {
   "cell_type": "code",
   "execution_count": 7,
   "metadata": {},
   "outputs": [
    {
     "data": {
      "text/html": [
       "<div>\n",
       "<style scoped>\n",
       "    .dataframe tbody tr th:only-of-type {\n",
       "        vertical-align: middle;\n",
       "    }\n",
       "\n",
       "    .dataframe tbody tr th {\n",
       "        vertical-align: top;\n",
       "    }\n",
       "\n",
       "    .dataframe thead th {\n",
       "        text-align: right;\n",
       "    }\n",
       "</style>\n",
       "<table border=\"1\" class=\"dataframe\">\n",
       "  <thead>\n",
       "    <tr style=\"text-align: right;\">\n",
       "      <th></th>\n",
       "      <th>名称</th>\n",
       "      <th>カテゴリ</th>\n",
       "      <th>アドレス</th>\n",
       "      <th>アクセス</th>\n",
       "      <th>築年数</th>\n",
       "      <th>構造</th>\n",
       "      <th>階数</th>\n",
       "      <th>家賃</th>\n",
       "      <th>管理費</th>\n",
       "      <th>敷金</th>\n",
       "      <th>礼金</th>\n",
       "      <th>間取り</th>\n",
       "      <th>面積</th>\n",
       "      <th>物件画像URL</th>\n",
       "      <th>間取画像URL</th>\n",
       "      <th>物件詳細URL</th>\n",
       "    </tr>\n",
       "  </thead>\n",
       "  <tbody>\n",
       "    <tr>\n",
       "      <th>0</th>\n",
       "      <td>サクラハイツ</td>\n",
       "      <td>賃貸アパート</td>\n",
       "      <td>東京都世田谷区桜１</td>\n",
       "      <td>小田急線/豪徳寺駅 歩18分, 東急世田谷線/上町駅 歩6分, 小田急線/経堂駅 歩17分</td>\n",
       "      <td>築48年</td>\n",
       "      <td>2階建</td>\n",
       "      <td>2階</td>\n",
       "      <td>2.9万円</td>\n",
       "      <td>-</td>\n",
       "      <td>2.9万円</td>\n",
       "      <td>-</td>\n",
       "      <td>1K</td>\n",
       "      <td>21m2</td>\n",
       "      <td>https://img01.suumo.com/front/gazo/fr/bukken/8...</td>\n",
       "      <td>https://img01.suumo.com/front/gazo/fr/bukken/4...</td>\n",
       "      <td>https://suumo.jp/chintai/jnc_000086526649/?bc=...</td>\n",
       "    </tr>\n",
       "    <tr>\n",
       "      <th>1</th>\n",
       "      <td>サクラハイツ</td>\n",
       "      <td>賃貸アパート</td>\n",
       "      <td>東京都世田谷区桜１</td>\n",
       "      <td>小田急線/豪徳寺駅 歩18分, 東急世田谷線/上町駅 歩6分, 小田急線/経堂駅 歩17分</td>\n",
       "      <td>築48年</td>\n",
       "      <td>2階建</td>\n",
       "      <td>1階</td>\n",
       "      <td>3.9万円</td>\n",
       "      <td>-</td>\n",
       "      <td>3.9万円</td>\n",
       "      <td>-</td>\n",
       "      <td>1K</td>\n",
       "      <td>23m2</td>\n",
       "      <td>https://img01.suumo.com/front/gazo/fr/bukken/8...</td>\n",
       "      <td>https://img01.suumo.com/front/gazo/fr/bukken/4...</td>\n",
       "      <td>https://suumo.jp/chintai/jnc_000086526649/?bc=...</td>\n",
       "    </tr>\n",
       "  </tbody>\n",
       "</table>\n",
       "</div>"
      ],
      "text/plain": [
       "       名称    カテゴリ       アドレス                                           アクセス  \\\n",
       "0  サクラハイツ  賃貸アパート  東京都世田谷区桜１  小田急線/豪徳寺駅 歩18分, 東急世田谷線/上町駅 歩6分, 小田急線/経堂駅 歩17分   \n",
       "1  サクラハイツ  賃貸アパート  東京都世田谷区桜１  小田急線/豪徳寺駅 歩18分, 東急世田谷線/上町駅 歩6分, 小田急線/経堂駅 歩17分   \n",
       "\n",
       "    築年数   構造  階数     家賃 管理費     敷金 礼金 間取り    面積  \\\n",
       "0  築48年  2階建  2階  2.9万円   -  2.9万円  -  1K  21m2   \n",
       "1  築48年  2階建  1階  3.9万円   -  3.9万円  -  1K  23m2   \n",
       "\n",
       "                                             物件画像URL  \\\n",
       "0  https://img01.suumo.com/front/gazo/fr/bukken/8...   \n",
       "1  https://img01.suumo.com/front/gazo/fr/bukken/8...   \n",
       "\n",
       "                                             間取画像URL  \\\n",
       "0  https://img01.suumo.com/front/gazo/fr/bukken/4...   \n",
       "1  https://img01.suumo.com/front/gazo/fr/bukken/4...   \n",
       "\n",
       "                                             物件詳細URL  \n",
       "0  https://suumo.jp/chintai/jnc_000086526649/?bc=...  \n",
       "1  https://suumo.jp/chintai/jnc_000086526649/?bc=...  "
      ]
     },
     "execution_count": 7,
     "metadata": {},
     "output_type": "execute_result"
    }
   ],
   "source": [
    "df = pd.DataFrame(all_data)\n",
    "df = df.drop_duplicates() # 重複データの削除\n",
    "df.head(2)"
   ]
  },
  {
   "cell_type": "markdown",
   "metadata": {},
   "source": [
    "### ● Googleスプレッドシートへの書き込み・読み込み。"
   ]
  },
  {
   "cell_type": "code",
   "execution_count": 8,
   "metadata": {},
   "outputs": [],
   "source": [
    "# google スプレッドシート 書き込み・読み込み\n",
    "import gspread\n",
    "from google.oauth2 import service_account\n",
    "from google.oauth2.service_account import Credentials\n",
    "from gspread_dataframe import get_as_dataframe\n",
    "from gspread_dataframe import set_with_dataframe"
   ]
  },
  {
   "cell_type": "code",
   "execution_count": 9,
   "metadata": {},
   "outputs": [],
   "source": [
    "from dotenv import load_dotenv\n",
    "import os\n",
    "\n",
    "# 環境変数の読み込み\n",
    "load_dotenv()\n",
    "\n",
    "# 環境変数から認証情報を取得\n",
    "SPREADSHEET_ID = os.getenv(\"SPREADSHEET_ID\")\n",
    "PRIVATE_KEY_PATH = os.getenv(\"PRIVATE_KEY_PATH\")"
   ]
  },
  {
   "cell_type": "code",
   "execution_count": 10,
   "metadata": {},
   "outputs": [],
   "source": [
    "# googleスプレッドシートの認証 jsonファイル読み込み(key値はGCPから取得)\n",
    "SP_CREDENTIAL_FILE = PRIVATE_KEY_PATH\n",
    "\n",
    "scopes = [\n",
    "    'https://www.googleapis.com/auth/spreadsheets',\n",
    "    'https://www.googleapis.com/auth/drive'\n",
    "]\n",
    "\n",
    "credentials = Credentials.from_service_account_file(\n",
    "    SP_CREDENTIAL_FILE,\n",
    "    scopes=scopes\n",
    ")\n",
    "gc = gspread.authorize(credentials)\n",
    "\n",
    "\n",
    "SP_SHEET_KEY = SPREADSHEET_ID # d/〇〇/edit の〇〇部分\n",
    "sh  = gc.open_by_key(SP_SHEET_KEY)"
   ]
  },
  {
   "cell_type": "code",
   "execution_count": 11,
   "metadata": {},
   "outputs": [],
   "source": [
    "# 取得した不動産データの書き込み\n",
    "SP_SHEET_wr     = 'tech0_90' # sheet名\n",
    "worksheet_wr = sh.worksheet(SP_SHEET_wr) # シートのデータ取得\n",
    "set_with_dataframe(worksheet_wr, df)"
   ]
  },
  {
   "cell_type": "code",
   "execution_count": 12,
   "metadata": {},
   "outputs": [],
   "source": [
    "# 不動産データの取得\n",
    "SP_SHEET     = 'tech0_90' # sheet名\n",
    "worksheet = sh.worksheet(SP_SHEET) # シートのデータ取得\n",
    "pre_data  = worksheet.get_all_values()\n",
    "col_name = pre_data[0][:]\n",
    "new_df = pd.DataFrame(pre_data[1:], columns=col_name) # 一段目をカラム、以下データフレームで取得"
   ]
  },
  {
   "cell_type": "code",
   "execution_count": 13,
   "metadata": {},
   "outputs": [
    {
     "data": {
      "text/html": [
       "<div>\n",
       "<style scoped>\n",
       "    .dataframe tbody tr th:only-of-type {\n",
       "        vertical-align: middle;\n",
       "    }\n",
       "\n",
       "    .dataframe tbody tr th {\n",
       "        vertical-align: top;\n",
       "    }\n",
       "\n",
       "    .dataframe thead th {\n",
       "        text-align: right;\n",
       "    }\n",
       "</style>\n",
       "<table border=\"1\" class=\"dataframe\">\n",
       "  <thead>\n",
       "    <tr style=\"text-align: right;\">\n",
       "      <th></th>\n",
       "      <th>名称</th>\n",
       "      <th>カテゴリ</th>\n",
       "      <th>アドレス</th>\n",
       "      <th>アクセス</th>\n",
       "      <th>築年数</th>\n",
       "      <th>構造</th>\n",
       "      <th>階数</th>\n",
       "      <th>家賃</th>\n",
       "      <th>管理費</th>\n",
       "      <th>敷金</th>\n",
       "      <th>礼金</th>\n",
       "      <th>間取り</th>\n",
       "      <th>面積</th>\n",
       "      <th>物件画像URL</th>\n",
       "      <th>間取画像URL</th>\n",
       "      <th>物件詳細URL</th>\n",
       "    </tr>\n",
       "  </thead>\n",
       "  <tbody>\n",
       "    <tr>\n",
       "      <th>0</th>\n",
       "      <td>サクラハイツ</td>\n",
       "      <td>賃貸アパート</td>\n",
       "      <td>東京都世田谷区桜１</td>\n",
       "      <td>小田急線/豪徳寺駅 歩18分, 東急世田谷線/上町駅 歩6分, 小田急線/経堂駅 歩17分</td>\n",
       "      <td>築48年</td>\n",
       "      <td>2階建</td>\n",
       "      <td>2階</td>\n",
       "      <td>2.9万円</td>\n",
       "      <td>-</td>\n",
       "      <td>2.9万円</td>\n",
       "      <td>-</td>\n",
       "      <td>1K</td>\n",
       "      <td>21m2</td>\n",
       "      <td>https://img01.suumo.com/front/gazo/fr/bukken/8...</td>\n",
       "      <td>https://img01.suumo.com/front/gazo/fr/bukken/4...</td>\n",
       "      <td>https://suumo.jp/chintai/jnc_000086526649/?bc=...</td>\n",
       "    </tr>\n",
       "    <tr>\n",
       "      <th>1</th>\n",
       "      <td>サクラハイツ</td>\n",
       "      <td>賃貸アパート</td>\n",
       "      <td>東京都世田谷区桜１</td>\n",
       "      <td>小田急線/豪徳寺駅 歩18分, 東急世田谷線/上町駅 歩6分, 小田急線/経堂駅 歩17分</td>\n",
       "      <td>築48年</td>\n",
       "      <td>2階建</td>\n",
       "      <td>1階</td>\n",
       "      <td>3.9万円</td>\n",
       "      <td>-</td>\n",
       "      <td>3.9万円</td>\n",
       "      <td>-</td>\n",
       "      <td>1K</td>\n",
       "      <td>23m2</td>\n",
       "      <td>https://img01.suumo.com/front/gazo/fr/bukken/8...</td>\n",
       "      <td>https://img01.suumo.com/front/gazo/fr/bukken/4...</td>\n",
       "      <td>https://suumo.jp/chintai/jnc_000086526649/?bc=...</td>\n",
       "    </tr>\n",
       "  </tbody>\n",
       "</table>\n",
       "</div>"
      ],
      "text/plain": [
       "       名称    カテゴリ       アドレス                                           アクセス  \\\n",
       "0  サクラハイツ  賃貸アパート  東京都世田谷区桜１  小田急線/豪徳寺駅 歩18分, 東急世田谷線/上町駅 歩6分, 小田急線/経堂駅 歩17分   \n",
       "1  サクラハイツ  賃貸アパート  東京都世田谷区桜１  小田急線/豪徳寺駅 歩18分, 東急世田谷線/上町駅 歩6分, 小田急線/経堂駅 歩17分   \n",
       "\n",
       "    築年数   構造  階数     家賃 管理費     敷金 礼金 間取り    面積  \\\n",
       "0  築48年  2階建  2階  2.9万円   -  2.9万円  -  1K  21m2   \n",
       "1  築48年  2階建  1階  3.9万円   -  3.9万円  -  1K  23m2   \n",
       "\n",
       "                                             物件画像URL  \\\n",
       "0  https://img01.suumo.com/front/gazo/fr/bukken/8...   \n",
       "1  https://img01.suumo.com/front/gazo/fr/bukken/8...   \n",
       "\n",
       "                                             間取画像URL  \\\n",
       "0  https://img01.suumo.com/front/gazo/fr/bukken/4...   \n",
       "1  https://img01.suumo.com/front/gazo/fr/bukken/4...   \n",
       "\n",
       "                                             物件詳細URL  \n",
       "0  https://suumo.jp/chintai/jnc_000086526649/?bc=...  \n",
       "1  https://suumo.jp/chintai/jnc_000086526649/?bc=...  "
      ]
     },
     "execution_count": 13,
     "metadata": {},
     "output_type": "execute_result"
    }
   ],
   "source": [
    "new_df.head(2)"
   ]
  },
  {
   "cell_type": "markdown",
   "metadata": {},
   "source": [
    "### ● 不動産データを加工する。"
   ]
  },
  {
   "cell_type": "code",
   "execution_count": 14,
   "metadata": {},
   "outputs": [
    {
     "name": "stdout",
     "output_type": "stream",
     "text": [
      "<class 'pandas.core.frame.DataFrame'>\n",
      "RangeIndex: 408 entries, 0 to 407\n",
      "Data columns (total 16 columns):\n",
      " #   Column   Non-Null Count  Dtype \n",
      "---  ------   --------------  ----- \n",
      " 0   名称       408 non-null    object\n",
      " 1   カテゴリ     408 non-null    object\n",
      " 2   アドレス     408 non-null    object\n",
      " 3   アクセス     408 non-null    object\n",
      " 4   築年数      408 non-null    object\n",
      " 5   構造       408 non-null    object\n",
      " 6   階数       408 non-null    object\n",
      " 7   家賃       408 non-null    object\n",
      " 8   管理費      408 non-null    object\n",
      " 9   敷金       408 non-null    object\n",
      " 10  礼金       408 non-null    object\n",
      " 11  間取り      408 non-null    object\n",
      " 12  面積       408 non-null    object\n",
      " 13  物件画像URL  408 non-null    object\n",
      " 14  間取画像URL  408 non-null    object\n",
      " 15  物件詳細URL  408 non-null    object\n",
      "dtypes: object(16)\n",
      "memory usage: 51.1+ KB\n"
     ]
    }
   ],
   "source": [
    "new_df.info()"
   ]
  },
  {
   "cell_type": "code",
   "execution_count": 15,
   "metadata": {},
   "outputs": [],
   "source": [
    "new_df['築年数'] = new_df[\"築年数\"].apply( lambda x: 0 if x=='新築' else int(re.split('[築年]', x )[1]) )"
   ]
  },
  {
   "cell_type": "code",
   "execution_count": 16,
   "metadata": {},
   "outputs": [
    {
     "name": "stdout",
     "output_type": "stream",
     "text": [
      "0    2\n",
      "1    2\n",
      "2    2\n",
      "3    3\n",
      "4    3\n",
      "Name: 構造, dtype: int64\n"
     ]
    }
   ],
   "source": [
    "def get_most_floor(x):\n",
    "    if ('階建' not in x) :\n",
    "        return np.nan\n",
    "    elif('B' not in x) :\n",
    "        list = re.findall(r'(\\d+)階建',str(x))\n",
    "        list = map(int, list)\n",
    "        min_value = min(list)\n",
    "        return min_value\n",
    "\n",
    "new_df['構造'] = new_df['構造'].apply(get_most_floor)\n",
    "print(new_df['構造'].head(5))"
   ]
  },
  {
   "cell_type": "code",
   "execution_count": 17,
   "metadata": {},
   "outputs": [
    {
     "name": "stdout",
     "output_type": "stream",
     "text": [
      "0    2\n",
      "1    1\n",
      "2    1\n",
      "3    2\n",
      "4    3\n",
      "Name: 階数, dtype: int64\n"
     ]
    }
   ],
   "source": [
    "def get_floor(x):\n",
    "    if ('階' not in x) :\n",
    "        return np.nan\n",
    "    elif('B' not in x) :\n",
    "        list = re.findall(r'(\\d+)階',str(x))\n",
    "        # time_listを数値型に変換\n",
    "        list = map(int, list)\n",
    "        # time_listの最小値をmin_valueに代入\n",
    "        min_value = min(list)\n",
    "        return min_value\n",
    "    else:\n",
    "        list = re.findall(r'(\\d+)階',str(x))\n",
    "        # time_listを数値型に変換\n",
    "        list = map(int, list)\n",
    "        # time_listの最小値をmin_valueに代入\n",
    "        min_value = -1*min(list)\n",
    "        return min_value\n",
    "\n",
    "new_df['階数'] = new_df['階数'].apply(get_floor)\n",
    "print(new_df['階数'].head(5))"
   ]
  },
  {
   "cell_type": "code",
   "execution_count": 18,
   "metadata": {},
   "outputs": [],
   "source": [
    "def change_fee(x):\n",
    "    if ('万円' not in x) :\n",
    "        return np.nan\n",
    "    else:\n",
    "        return float(x.split('万円')[0])\n",
    "\n",
    "new_df['家賃'] = new_df['家賃'].apply(change_fee)\n",
    "new_df['敷金'] = new_df['敷金'].apply(change_fee)\n",
    "new_df['礼金'] = new_df['礼金'].apply(change_fee)"
   ]
  },
  {
   "cell_type": "code",
   "execution_count": 19,
   "metadata": {},
   "outputs": [],
   "source": [
    "def change_fee2(x):\n",
    "    if ('円' not in x) :\n",
    "        return np.nan\n",
    "    else:\n",
    "        return float(x.split('円')[0])\n",
    "\n",
    "\n",
    "new_df['管理費'] = new_df['管理費'].apply(change_fee2)"
   ]
  },
  {
   "cell_type": "code",
   "execution_count": 20,
   "metadata": {},
   "outputs": [],
   "source": [
    "new_df['面積'] = new_df['面積'].apply(lambda x: float(x[:-2]))"
   ]
  },
  {
   "cell_type": "code",
   "execution_count": 21,
   "metadata": {},
   "outputs": [],
   "source": [
    "new_df['区'] = new_df[\"アドレス\"].apply(lambda x : x[x.find(\"都\")+1:x.find(\"区\")+1])"
   ]
  },
  {
   "cell_type": "code",
   "execution_count": 22,
   "metadata": {},
   "outputs": [],
   "source": [
    "new_df['市町'] = new_df[\"アドレス\"].apply(lambda x : x[x.find(\"区\")+1 :-1])"
   ]
  },
  {
   "cell_type": "code",
   "execution_count": 23,
   "metadata": {},
   "outputs": [],
   "source": [
    "def split_access(row):\n",
    "    accesses = row['アクセス'].split(', ')\n",
    "    results = {}\n",
    "\n",
    "    for i, access in enumerate(accesses, start=1):\n",
    "        if i > 3:\n",
    "            break  # 最大3つのアクセス情報のみを考慮\n",
    "\n",
    "        parts = access.split('/')\n",
    "        if len(parts) == 2:\n",
    "            line_station, walk = parts\n",
    "            # ' 歩'で分割できるか確認\n",
    "            if ' 歩' in walk:\n",
    "                station, walk_min = walk.split(' 歩')\n",
    "                # 歩数の分の数値だけを抽出\n",
    "                walk_min = int(re.search(r'\\d+', walk_min).group())\n",
    "            else:\n",
    "                station = None\n",
    "                walk_min = None\n",
    "        else:\n",
    "            line_station = access\n",
    "            station = walk_min = None\n",
    "\n",
    "        results[f'アクセス①{i}線路名'] = line_station\n",
    "        results[f'アクセス①{i}駅名'] = station\n",
    "        results[f'アクセス①{i}徒歩(分)'] = walk_min\n",
    "\n",
    "    return pd.Series(results)\n",
    "\n",
    "# 新しい列をデータフレームに適用\n",
    "new_df = new_df.join(new_df.apply(split_access, axis=1))"
   ]
  },
  {
   "cell_type": "code",
   "execution_count": 24,
   "metadata": {},
   "outputs": [
    {
     "data": {
      "text/html": [
       "<div>\n",
       "<style scoped>\n",
       "    .dataframe tbody tr th:only-of-type {\n",
       "        vertical-align: middle;\n",
       "    }\n",
       "\n",
       "    .dataframe tbody tr th {\n",
       "        vertical-align: top;\n",
       "    }\n",
       "\n",
       "    .dataframe thead th {\n",
       "        text-align: right;\n",
       "    }\n",
       "</style>\n",
       "<table border=\"1\" class=\"dataframe\">\n",
       "  <thead>\n",
       "    <tr style=\"text-align: right;\">\n",
       "      <th></th>\n",
       "      <th>名称</th>\n",
       "      <th>カテゴリ</th>\n",
       "      <th>アドレス</th>\n",
       "      <th>アクセス</th>\n",
       "      <th>築年数</th>\n",
       "      <th>構造</th>\n",
       "      <th>階数</th>\n",
       "      <th>家賃</th>\n",
       "      <th>管理費</th>\n",
       "      <th>敷金</th>\n",
       "      <th>...</th>\n",
       "      <th>市町</th>\n",
       "      <th>アクセス①1線路名</th>\n",
       "      <th>アクセス①1駅名</th>\n",
       "      <th>アクセス①1徒歩(分)</th>\n",
       "      <th>アクセス①2線路名</th>\n",
       "      <th>アクセス①2駅名</th>\n",
       "      <th>アクセス①2徒歩(分)</th>\n",
       "      <th>アクセス①3線路名</th>\n",
       "      <th>アクセス①3駅名</th>\n",
       "      <th>アクセス①3徒歩(分)</th>\n",
       "    </tr>\n",
       "  </thead>\n",
       "  <tbody>\n",
       "    <tr>\n",
       "      <th>0</th>\n",
       "      <td>サクラハイツ</td>\n",
       "      <td>賃貸アパート</td>\n",
       "      <td>東京都世田谷区桜１</td>\n",
       "      <td>小田急線/豪徳寺駅 歩18分, 東急世田谷線/上町駅 歩6分, 小田急線/経堂駅 歩17分</td>\n",
       "      <td>48</td>\n",
       "      <td>2</td>\n",
       "      <td>2</td>\n",
       "      <td>2.9</td>\n",
       "      <td>NaN</td>\n",
       "      <td>2.9</td>\n",
       "      <td>...</td>\n",
       "      <td>桜</td>\n",
       "      <td>小田急線</td>\n",
       "      <td>豪徳寺駅</td>\n",
       "      <td>18</td>\n",
       "      <td>東急世田谷線</td>\n",
       "      <td>上町駅</td>\n",
       "      <td>6.0</td>\n",
       "      <td>小田急線</td>\n",
       "      <td>経堂駅</td>\n",
       "      <td>17.0</td>\n",
       "    </tr>\n",
       "    <tr>\n",
       "      <th>1</th>\n",
       "      <td>サクラハイツ</td>\n",
       "      <td>賃貸アパート</td>\n",
       "      <td>東京都世田谷区桜１</td>\n",
       "      <td>小田急線/豪徳寺駅 歩18分, 東急世田谷線/上町駅 歩6分, 小田急線/経堂駅 歩17分</td>\n",
       "      <td>48</td>\n",
       "      <td>2</td>\n",
       "      <td>1</td>\n",
       "      <td>3.9</td>\n",
       "      <td>NaN</td>\n",
       "      <td>3.9</td>\n",
       "      <td>...</td>\n",
       "      <td>桜</td>\n",
       "      <td>小田急線</td>\n",
       "      <td>豪徳寺駅</td>\n",
       "      <td>18</td>\n",
       "      <td>東急世田谷線</td>\n",
       "      <td>上町駅</td>\n",
       "      <td>6.0</td>\n",
       "      <td>小田急線</td>\n",
       "      <td>経堂駅</td>\n",
       "      <td>17.0</td>\n",
       "    </tr>\n",
       "  </tbody>\n",
       "</table>\n",
       "<p>2 rows × 27 columns</p>\n",
       "</div>"
      ],
      "text/plain": [
       "       名称    カテゴリ       アドレス                                           アクセス  \\\n",
       "0  サクラハイツ  賃貸アパート  東京都世田谷区桜１  小田急線/豪徳寺駅 歩18分, 東急世田谷線/上町駅 歩6分, 小田急線/経堂駅 歩17分   \n",
       "1  サクラハイツ  賃貸アパート  東京都世田谷区桜１  小田急線/豪徳寺駅 歩18分, 東急世田谷線/上町駅 歩6分, 小田急線/経堂駅 歩17分   \n",
       "\n",
       "   築年数  構造  階数   家賃  管理費   敷金  ...  市町 アクセス①1線路名  アクセス①1駅名 アクセス①1徒歩(分)  \\\n",
       "0   48   2   2  2.9  NaN  2.9  ...   桜      小田急線      豪徳寺駅          18   \n",
       "1   48   2   1  3.9  NaN  3.9  ...   桜      小田急線      豪徳寺駅          18   \n",
       "\n",
       "  アクセス①2線路名 アクセス①2駅名 アクセス①2徒歩(分) アクセス①3線路名 アクセス①3駅名 アクセス①3徒歩(分)  \n",
       "0    東急世田谷線      上町駅         6.0      小田急線      経堂駅        17.0  \n",
       "1    東急世田谷線      上町駅         6.0      小田急線      経堂駅        17.0  \n",
       "\n",
       "[2 rows x 27 columns]"
      ]
     },
     "execution_count": 24,
     "metadata": {},
     "output_type": "execute_result"
    }
   ],
   "source": [
    "new_df.head(2)"
   ]
  },
  {
   "cell_type": "code",
   "execution_count": 25,
   "metadata": {},
   "outputs": [
    {
     "name": "stdout",
     "output_type": "stream",
     "text": [
      "<class 'pandas.core.frame.DataFrame'>\n",
      "RangeIndex: 408 entries, 0 to 407\n",
      "Data columns (total 27 columns):\n",
      " #   Column       Non-Null Count  Dtype  \n",
      "---  ------       --------------  -----  \n",
      " 0   名称           408 non-null    object \n",
      " 1   カテゴリ         408 non-null    object \n",
      " 2   アドレス         408 non-null    object \n",
      " 3   アクセス         408 non-null    object \n",
      " 4   築年数          408 non-null    int64  \n",
      " 5   構造           408 non-null    int64  \n",
      " 6   階数           408 non-null    int64  \n",
      " 7   家賃           408 non-null    float64\n",
      " 8   管理費          332 non-null    float64\n",
      " 9   敷金           181 non-null    float64\n",
      " 10  礼金           83 non-null     float64\n",
      " 11  間取り          408 non-null    object \n",
      " 12  面積           408 non-null    float64\n",
      " 13  物件画像URL      408 non-null    object \n",
      " 14  間取画像URL      408 non-null    object \n",
      " 15  物件詳細URL      408 non-null    object \n",
      " 16  区            408 non-null    object \n",
      " 17  市町           408 non-null    object \n",
      " 18  アクセス①1線路名    408 non-null    object \n",
      " 19  アクセス①1駅名     408 non-null    object \n",
      " 20  アクセス①1徒歩(分)  408 non-null    int64  \n",
      " 21  アクセス①2線路名    408 non-null    object \n",
      " 22  アクセス①2駅名     342 non-null    object \n",
      " 23  アクセス①2徒歩(分)  342 non-null    float64\n",
      " 24  アクセス①3線路名    408 non-null    object \n",
      " 25  アクセス①3駅名     318 non-null    object \n",
      " 26  アクセス①3徒歩(分)  318 non-null    float64\n",
      "dtypes: float64(7), int64(4), object(16)\n",
      "memory usage: 86.2+ KB\n"
     ]
    }
   ],
   "source": [
    "new_df.info()"
   ]
  },
  {
   "cell_type": "code",
   "execution_count": 26,
   "metadata": {},
   "outputs": [],
   "source": [
    "# 取得した不動産データの書き込み\n",
    "SP_SHEET_wr     = 'tech0_91' # sheet名\n",
    "worksheet_wr = sh.worksheet(SP_SHEET_wr) # シートのデータ取得\n",
    "set_with_dataframe(worksheet_wr, new_df)"
   ]
  }
 ],
 "metadata": {
  "kernelspec": {
   "display_name": "Python 3.9.12",
   "language": "python",
   "name": "python3"
  },
  "language_info": {
   "codemirror_mode": {
    "name": "ipython",
    "version": 3
   },
   "file_extension": ".py",
   "mimetype": "text/x-python",
   "name": "python",
   "nbconvert_exporter": "python",
   "pygments_lexer": "ipython3",
   "version": "3.9.12"
  },
  "orig_nbformat": 4,
  "vscode": {
   "interpreter": {
    "hash": "64d5d4399863c303542a5444b346de0b23e7b99b2b5a266af496652654d69ac2"
   }
  }
 },
 "nbformat": 4,
 "nbformat_minor": 2
}
